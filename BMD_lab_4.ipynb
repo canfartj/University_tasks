{
  "nbformat": 4,
  "nbformat_minor": 0,
  "metadata": {
    "colab": {
      "provenance": []
    },
    "kernelspec": {
      "name": "python3",
      "display_name": "Python 3"
    },
    "language_info": {
      "name": "python"
    }
  },
  "cells": [
    {
      "cell_type": "markdown",
      "source": [
        "<center>МІНІСТЕРСТВО ОСВІТИ І НАУКИ УКРАЇНИ\n",
        "<center>НАЦІОНАЛЬНИЙ ТЕХНІЧНИЙ УНІВЕРСИТЕТ УКРАЇНИ\n",
        "<center>\"КИЇВСЬКИЙ ПОЛІТЕХНІЧНИЙ ІНСТИТУТ імені Ігоря Сікорського\"\n",
        "<center>Кафедра біомедичної інженерії\n",
        "\n",
        "<cener>Компʼютерний практикум №4\n",
        "\n",
        "<center>з дисципліни \"Обробка та аналіз біомедичних даних\"\n",
        "\n",
        "\n",
        "<right>виконала:\n",
        "<br>\n",
        "<right>студентка групи БС-12\n",
        "<br>\n",
        "<right>Сипко В.І\n",
        "<center>Київ-2023"
      ],
      "metadata": {
        "id": "dry7HeGhkViy"
      }
    },
    {
      "cell_type": "code",
      "source": [
        "import numpy as np\n",
        "import pandas as pd\n",
        "import scipy.stats\n",
        "import seaborn as sns\n",
        "import matplotlib.pyplot as plt"
      ],
      "metadata": {
        "id": "bfAg8EXRkYgL"
      },
      "execution_count": 2,
      "outputs": []
    },
    {
      "cell_type": "markdown",
      "source": [
        "\n",
        "1.   Сгенеруйте набір даних, що містить не менше 6 змінних. Частину змінних згенеруйте за нормальний розподілом, частину - за будь-яким іншим розподілом. Кількість спостережень - 20."
      ],
      "metadata": {
        "id": "Po14tU58yUn7"
      }
    },
    {
      "cell_type": "code",
      "source": [
        "mu = [5, 10, -3]\n",
        "sigma = [1, 2, 2]\n",
        "\n",
        "norm_data_1 = np.random.normal(mu[0], sigma[0], 20)\n",
        "norm_data_2 = np.random.normal(mu[1], sigma[1], 20)\n",
        "norm_data_3 = np.random.normal(mu[2], sigma[2], 20)\n",
        "\n",
        "log_data_1 = np.random.lognormal(5, 1, 20)\n",
        "log_data_2 = np.random.lognormal(10, 1, 20)\n",
        "log_data_3 = np.random.lognormal(0, 2, 20)"
      ],
      "metadata": {
        "id": "W-g_9gdrBsW6"
      },
      "execution_count": 14,
      "outputs": []
    },
    {
      "cell_type": "markdown",
      "source": [
        "2.   Створіть функцію, що реалізує критерій Шапіро-Уілка та застосуйте її до кожної змінної набору данних."
      ],
      "metadata": {
        "id": "fJvpXD7Gyij4"
      }
    },
    {
      "cell_type": "code",
      "source": [
        "table_5 = pd.read_excel('/content/5 - Coeficients for the W test for normality.xlsx')\n",
        "table_5.head()"
      ],
      "metadata": {
        "id": "Q0_2GIjQgNCq",
        "colab": {
          "base_uri": "https://localhost:8080/",
          "height": 233
        },
        "outputId": "7905e256-8369-4781-fa5d-44c475abe957"
      },
      "execution_count": 5,
      "outputs": [
        {
          "output_type": "execute_result",
          "data": {
            "text/plain": [
              "   i\\n       2       3       4       5       6       7       8       9  \\\n",
              "0    1  0.7071  0.7071  0.6872  0.6646  0.6431  0.6233  0.6052  0.5888   \n",
              "1    2     NaN     NaN  0.1677  0.2413  0.2806  0.3031  0.3164  0.3244   \n",
              "2    3     NaN     NaN     NaN     NaN  0.0875  0.1401  0.1743  0.1976   \n",
              "3    4     NaN     NaN     NaN     NaN     NaN     NaN  0.0561  0.0947   \n",
              "4    5     NaN     NaN     NaN     NaN     NaN     NaN     NaN     NaN   \n",
              "\n",
              "       10  ...      41      42      43      44      45      46      47  \\\n",
              "0  0.5739  ...  0.3940  0.3917  0.3894  0.3872  0.3850  0.3830  0.3808   \n",
              "1  0.3291  ...  0.2719  0.2701  0.2684  0.2667  0.2651  0.2635  0.2620   \n",
              "2  0.2141  ...  0.2357  0.2345  0.2334  0.2323  0.2313  0.2302  0.2291   \n",
              "3  0.1224  ...  0.2091  0.2085  0.2078  0.2072  0.2065  0.2058  0.2052   \n",
              "4  0.0399  ...  0.1876  0.1874  0.1871  0.1868  0.1865  0.1862  0.1859   \n",
              "\n",
              "       48      49      50  \n",
              "0  0.3789  0.3770  0.3751  \n",
              "1  0.2604  0.2589  0.2574  \n",
              "2  0.2281  0.2271  0.2260  \n",
              "3  0.2045  0.2038  0.2032  \n",
              "4  0.1855  0.1851  0.1847  \n",
              "\n",
              "[5 rows x 50 columns]"
            ],
            "text/html": [
              "\n",
              "  <div id=\"df-7273898c-65b0-4d78-9e54-e2d345796b61\">\n",
              "    <div class=\"colab-df-container\">\n",
              "      <div>\n",
              "<style scoped>\n",
              "    .dataframe tbody tr th:only-of-type {\n",
              "        vertical-align: middle;\n",
              "    }\n",
              "\n",
              "    .dataframe tbody tr th {\n",
              "        vertical-align: top;\n",
              "    }\n",
              "\n",
              "    .dataframe thead th {\n",
              "        text-align: right;\n",
              "    }\n",
              "</style>\n",
              "<table border=\"1\" class=\"dataframe\">\n",
              "  <thead>\n",
              "    <tr style=\"text-align: right;\">\n",
              "      <th></th>\n",
              "      <th>i\\n</th>\n",
              "      <th>2</th>\n",
              "      <th>3</th>\n",
              "      <th>4</th>\n",
              "      <th>5</th>\n",
              "      <th>6</th>\n",
              "      <th>7</th>\n",
              "      <th>8</th>\n",
              "      <th>9</th>\n",
              "      <th>10</th>\n",
              "      <th>...</th>\n",
              "      <th>41</th>\n",
              "      <th>42</th>\n",
              "      <th>43</th>\n",
              "      <th>44</th>\n",
              "      <th>45</th>\n",
              "      <th>46</th>\n",
              "      <th>47</th>\n",
              "      <th>48</th>\n",
              "      <th>49</th>\n",
              "      <th>50</th>\n",
              "    </tr>\n",
              "  </thead>\n",
              "  <tbody>\n",
              "    <tr>\n",
              "      <th>0</th>\n",
              "      <td>1</td>\n",
              "      <td>0.7071</td>\n",
              "      <td>0.7071</td>\n",
              "      <td>0.6872</td>\n",
              "      <td>0.6646</td>\n",
              "      <td>0.6431</td>\n",
              "      <td>0.6233</td>\n",
              "      <td>0.6052</td>\n",
              "      <td>0.5888</td>\n",
              "      <td>0.5739</td>\n",
              "      <td>...</td>\n",
              "      <td>0.3940</td>\n",
              "      <td>0.3917</td>\n",
              "      <td>0.3894</td>\n",
              "      <td>0.3872</td>\n",
              "      <td>0.3850</td>\n",
              "      <td>0.3830</td>\n",
              "      <td>0.3808</td>\n",
              "      <td>0.3789</td>\n",
              "      <td>0.3770</td>\n",
              "      <td>0.3751</td>\n",
              "    </tr>\n",
              "    <tr>\n",
              "      <th>1</th>\n",
              "      <td>2</td>\n",
              "      <td>NaN</td>\n",
              "      <td>NaN</td>\n",
              "      <td>0.1677</td>\n",
              "      <td>0.2413</td>\n",
              "      <td>0.2806</td>\n",
              "      <td>0.3031</td>\n",
              "      <td>0.3164</td>\n",
              "      <td>0.3244</td>\n",
              "      <td>0.3291</td>\n",
              "      <td>...</td>\n",
              "      <td>0.2719</td>\n",
              "      <td>0.2701</td>\n",
              "      <td>0.2684</td>\n",
              "      <td>0.2667</td>\n",
              "      <td>0.2651</td>\n",
              "      <td>0.2635</td>\n",
              "      <td>0.2620</td>\n",
              "      <td>0.2604</td>\n",
              "      <td>0.2589</td>\n",
              "      <td>0.2574</td>\n",
              "    </tr>\n",
              "    <tr>\n",
              "      <th>2</th>\n",
              "      <td>3</td>\n",
              "      <td>NaN</td>\n",
              "      <td>NaN</td>\n",
              "      <td>NaN</td>\n",
              "      <td>NaN</td>\n",
              "      <td>0.0875</td>\n",
              "      <td>0.1401</td>\n",
              "      <td>0.1743</td>\n",
              "      <td>0.1976</td>\n",
              "      <td>0.2141</td>\n",
              "      <td>...</td>\n",
              "      <td>0.2357</td>\n",
              "      <td>0.2345</td>\n",
              "      <td>0.2334</td>\n",
              "      <td>0.2323</td>\n",
              "      <td>0.2313</td>\n",
              "      <td>0.2302</td>\n",
              "      <td>0.2291</td>\n",
              "      <td>0.2281</td>\n",
              "      <td>0.2271</td>\n",
              "      <td>0.2260</td>\n",
              "    </tr>\n",
              "    <tr>\n",
              "      <th>3</th>\n",
              "      <td>4</td>\n",
              "      <td>NaN</td>\n",
              "      <td>NaN</td>\n",
              "      <td>NaN</td>\n",
              "      <td>NaN</td>\n",
              "      <td>NaN</td>\n",
              "      <td>NaN</td>\n",
              "      <td>0.0561</td>\n",
              "      <td>0.0947</td>\n",
              "      <td>0.1224</td>\n",
              "      <td>...</td>\n",
              "      <td>0.2091</td>\n",
              "      <td>0.2085</td>\n",
              "      <td>0.2078</td>\n",
              "      <td>0.2072</td>\n",
              "      <td>0.2065</td>\n",
              "      <td>0.2058</td>\n",
              "      <td>0.2052</td>\n",
              "      <td>0.2045</td>\n",
              "      <td>0.2038</td>\n",
              "      <td>0.2032</td>\n",
              "    </tr>\n",
              "    <tr>\n",
              "      <th>4</th>\n",
              "      <td>5</td>\n",
              "      <td>NaN</td>\n",
              "      <td>NaN</td>\n",
              "      <td>NaN</td>\n",
              "      <td>NaN</td>\n",
              "      <td>NaN</td>\n",
              "      <td>NaN</td>\n",
              "      <td>NaN</td>\n",
              "      <td>NaN</td>\n",
              "      <td>0.0399</td>\n",
              "      <td>...</td>\n",
              "      <td>0.1876</td>\n",
              "      <td>0.1874</td>\n",
              "      <td>0.1871</td>\n",
              "      <td>0.1868</td>\n",
              "      <td>0.1865</td>\n",
              "      <td>0.1862</td>\n",
              "      <td>0.1859</td>\n",
              "      <td>0.1855</td>\n",
              "      <td>0.1851</td>\n",
              "      <td>0.1847</td>\n",
              "    </tr>\n",
              "  </tbody>\n",
              "</table>\n",
              "<p>5 rows × 50 columns</p>\n",
              "</div>\n",
              "      <button class=\"colab-df-convert\" onclick=\"convertToInteractive('df-7273898c-65b0-4d78-9e54-e2d345796b61')\"\n",
              "              title=\"Convert this dataframe to an interactive table.\"\n",
              "              style=\"display:none;\">\n",
              "        \n",
              "  <svg xmlns=\"http://www.w3.org/2000/svg\" height=\"24px\"viewBox=\"0 0 24 24\"\n",
              "       width=\"24px\">\n",
              "    <path d=\"M0 0h24v24H0V0z\" fill=\"none\"/>\n",
              "    <path d=\"M18.56 5.44l.94 2.06.94-2.06 2.06-.94-2.06-.94-.94-2.06-.94 2.06-2.06.94zm-11 1L8.5 8.5l.94-2.06 2.06-.94-2.06-.94L8.5 2.5l-.94 2.06-2.06.94zm10 10l.94 2.06.94-2.06 2.06-.94-2.06-.94-.94-2.06-.94 2.06-2.06.94z\"/><path d=\"M17.41 7.96l-1.37-1.37c-.4-.4-.92-.59-1.43-.59-.52 0-1.04.2-1.43.59L10.3 9.45l-7.72 7.72c-.78.78-.78 2.05 0 2.83L4 21.41c.39.39.9.59 1.41.59.51 0 1.02-.2 1.41-.59l7.78-7.78 2.81-2.81c.8-.78.8-2.07 0-2.86zM5.41 20L4 18.59l7.72-7.72 1.47 1.35L5.41 20z\"/>\n",
              "  </svg>\n",
              "      </button>\n",
              "      \n",
              "  <style>\n",
              "    .colab-df-container {\n",
              "      display:flex;\n",
              "      flex-wrap:wrap;\n",
              "      gap: 12px;\n",
              "    }\n",
              "\n",
              "    .colab-df-convert {\n",
              "      background-color: #E8F0FE;\n",
              "      border: none;\n",
              "      border-radius: 50%;\n",
              "      cursor: pointer;\n",
              "      display: none;\n",
              "      fill: #1967D2;\n",
              "      height: 32px;\n",
              "      padding: 0 0 0 0;\n",
              "      width: 32px;\n",
              "    }\n",
              "\n",
              "    .colab-df-convert:hover {\n",
              "      background-color: #E2EBFA;\n",
              "      box-shadow: 0px 1px 2px rgba(60, 64, 67, 0.3), 0px 1px 3px 1px rgba(60, 64, 67, 0.15);\n",
              "      fill: #174EA6;\n",
              "    }\n",
              "\n",
              "    [theme=dark] .colab-df-convert {\n",
              "      background-color: #3B4455;\n",
              "      fill: #D2E3FC;\n",
              "    }\n",
              "\n",
              "    [theme=dark] .colab-df-convert:hover {\n",
              "      background-color: #434B5C;\n",
              "      box-shadow: 0px 1px 3px 1px rgba(0, 0, 0, 0.15);\n",
              "      filter: drop-shadow(0px 1px 2px rgba(0, 0, 0, 0.3));\n",
              "      fill: #FFFFFF;\n",
              "    }\n",
              "  </style>\n",
              "\n",
              "      <script>\n",
              "        const buttonEl =\n",
              "          document.querySelector('#df-7273898c-65b0-4d78-9e54-e2d345796b61 button.colab-df-convert');\n",
              "        buttonEl.style.display =\n",
              "          google.colab.kernel.accessAllowed ? 'block' : 'none';\n",
              "\n",
              "        async function convertToInteractive(key) {\n",
              "          const element = document.querySelector('#df-7273898c-65b0-4d78-9e54-e2d345796b61');\n",
              "          const dataTable =\n",
              "            await google.colab.kernel.invokeFunction('convertToInteractive',\n",
              "                                                     [key], {});\n",
              "          if (!dataTable) return;\n",
              "\n",
              "          const docLinkHtml = 'Like what you see? Visit the ' +\n",
              "            '<a target=\"_blank\" href=https://colab.research.google.com/notebooks/data_table.ipynb>data table notebook</a>'\n",
              "            + ' to learn more about interactive tables.';\n",
              "          element.innerHTML = '';\n",
              "          dataTable['output_type'] = 'display_data';\n",
              "          await google.colab.output.renderOutput(dataTable, element);\n",
              "          const docLink = document.createElement('div');\n",
              "          docLink.innerHTML = docLinkHtml;\n",
              "          element.appendChild(docLink);\n",
              "        }\n",
              "      </script>\n",
              "    </div>\n",
              "  </div>\n",
              "  "
            ]
          },
          "metadata": {},
          "execution_count": 5
        }
      ]
    },
    {
      "cell_type": "code",
      "source": [
        "table_6 = pd.read_excel('/content/6 - Ð oints of the distribution of W.xlsx')\n",
        "table_6.head()"
      ],
      "metadata": {
        "colab": {
          "base_uri": "https://localhost:8080/",
          "height": 204
        },
        "id": "ZHltTFlw0ybE",
        "outputId": "4f200fcc-55de-4fcc-cf80-475e92b3fbd6"
      },
      "execution_count": 6,
      "outputs": [
        {
          "output_type": "execute_result",
          "data": {
            "text/plain": [
              "   n    0-5\n",
              "0  3  0.767\n",
              "1  4  0.748\n",
              "2  5  0.762\n",
              "3  6  0.788\n",
              "4  7  0.803"
            ],
            "text/html": [
              "\n",
              "  <div id=\"df-7b7d4c4b-4779-4e41-abbc-1e4f0b7cef79\">\n",
              "    <div class=\"colab-df-container\">\n",
              "      <div>\n",
              "<style scoped>\n",
              "    .dataframe tbody tr th:only-of-type {\n",
              "        vertical-align: middle;\n",
              "    }\n",
              "\n",
              "    .dataframe tbody tr th {\n",
              "        vertical-align: top;\n",
              "    }\n",
              "\n",
              "    .dataframe thead th {\n",
              "        text-align: right;\n",
              "    }\n",
              "</style>\n",
              "<table border=\"1\" class=\"dataframe\">\n",
              "  <thead>\n",
              "    <tr style=\"text-align: right;\">\n",
              "      <th></th>\n",
              "      <th>n</th>\n",
              "      <th>0-5</th>\n",
              "    </tr>\n",
              "  </thead>\n",
              "  <tbody>\n",
              "    <tr>\n",
              "      <th>0</th>\n",
              "      <td>3</td>\n",
              "      <td>0.767</td>\n",
              "    </tr>\n",
              "    <tr>\n",
              "      <th>1</th>\n",
              "      <td>4</td>\n",
              "      <td>0.748</td>\n",
              "    </tr>\n",
              "    <tr>\n",
              "      <th>2</th>\n",
              "      <td>5</td>\n",
              "      <td>0.762</td>\n",
              "    </tr>\n",
              "    <tr>\n",
              "      <th>3</th>\n",
              "      <td>6</td>\n",
              "      <td>0.788</td>\n",
              "    </tr>\n",
              "    <tr>\n",
              "      <th>4</th>\n",
              "      <td>7</td>\n",
              "      <td>0.803</td>\n",
              "    </tr>\n",
              "  </tbody>\n",
              "</table>\n",
              "</div>\n",
              "      <button class=\"colab-df-convert\" onclick=\"convertToInteractive('df-7b7d4c4b-4779-4e41-abbc-1e4f0b7cef79')\"\n",
              "              title=\"Convert this dataframe to an interactive table.\"\n",
              "              style=\"display:none;\">\n",
              "        \n",
              "  <svg xmlns=\"http://www.w3.org/2000/svg\" height=\"24px\"viewBox=\"0 0 24 24\"\n",
              "       width=\"24px\">\n",
              "    <path d=\"M0 0h24v24H0V0z\" fill=\"none\"/>\n",
              "    <path d=\"M18.56 5.44l.94 2.06.94-2.06 2.06-.94-2.06-.94-.94-2.06-.94 2.06-2.06.94zm-11 1L8.5 8.5l.94-2.06 2.06-.94-2.06-.94L8.5 2.5l-.94 2.06-2.06.94zm10 10l.94 2.06.94-2.06 2.06-.94-2.06-.94-.94-2.06-.94 2.06-2.06.94z\"/><path d=\"M17.41 7.96l-1.37-1.37c-.4-.4-.92-.59-1.43-.59-.52 0-1.04.2-1.43.59L10.3 9.45l-7.72 7.72c-.78.78-.78 2.05 0 2.83L4 21.41c.39.39.9.59 1.41.59.51 0 1.02-.2 1.41-.59l7.78-7.78 2.81-2.81c.8-.78.8-2.07 0-2.86zM5.41 20L4 18.59l7.72-7.72 1.47 1.35L5.41 20z\"/>\n",
              "  </svg>\n",
              "      </button>\n",
              "      \n",
              "  <style>\n",
              "    .colab-df-container {\n",
              "      display:flex;\n",
              "      flex-wrap:wrap;\n",
              "      gap: 12px;\n",
              "    }\n",
              "\n",
              "    .colab-df-convert {\n",
              "      background-color: #E8F0FE;\n",
              "      border: none;\n",
              "      border-radius: 50%;\n",
              "      cursor: pointer;\n",
              "      display: none;\n",
              "      fill: #1967D2;\n",
              "      height: 32px;\n",
              "      padding: 0 0 0 0;\n",
              "      width: 32px;\n",
              "    }\n",
              "\n",
              "    .colab-df-convert:hover {\n",
              "      background-color: #E2EBFA;\n",
              "      box-shadow: 0px 1px 2px rgba(60, 64, 67, 0.3), 0px 1px 3px 1px rgba(60, 64, 67, 0.15);\n",
              "      fill: #174EA6;\n",
              "    }\n",
              "\n",
              "    [theme=dark] .colab-df-convert {\n",
              "      background-color: #3B4455;\n",
              "      fill: #D2E3FC;\n",
              "    }\n",
              "\n",
              "    [theme=dark] .colab-df-convert:hover {\n",
              "      background-color: #434B5C;\n",
              "      box-shadow: 0px 1px 3px 1px rgba(0, 0, 0, 0.15);\n",
              "      filter: drop-shadow(0px 1px 2px rgba(0, 0, 0, 0.3));\n",
              "      fill: #FFFFFF;\n",
              "    }\n",
              "  </style>\n",
              "\n",
              "      <script>\n",
              "        const buttonEl =\n",
              "          document.querySelector('#df-7b7d4c4b-4779-4e41-abbc-1e4f0b7cef79 button.colab-df-convert');\n",
              "        buttonEl.style.display =\n",
              "          google.colab.kernel.accessAllowed ? 'block' : 'none';\n",
              "\n",
              "        async function convertToInteractive(key) {\n",
              "          const element = document.querySelector('#df-7b7d4c4b-4779-4e41-abbc-1e4f0b7cef79');\n",
              "          const dataTable =\n",
              "            await google.colab.kernel.invokeFunction('convertToInteractive',\n",
              "                                                     [key], {});\n",
              "          if (!dataTable) return;\n",
              "\n",
              "          const docLinkHtml = 'Like what you see? Visit the ' +\n",
              "            '<a target=\"_blank\" href=https://colab.research.google.com/notebooks/data_table.ipynb>data table notebook</a>'\n",
              "            + ' to learn more about interactive tables.';\n",
              "          element.innerHTML = '';\n",
              "          dataTable['output_type'] = 'display_data';\n",
              "          await google.colab.output.renderOutput(dataTable, element);\n",
              "          const docLink = document.createElement('div');\n",
              "          docLink.innerHTML = docLinkHtml;\n",
              "          element.appendChild(docLink);\n",
              "        }\n",
              "      </script>\n",
              "    </div>\n",
              "  </div>\n",
              "  "
            ]
          },
          "metadata": {},
          "execution_count": 6
        }
      ]
    },
    {
      "cell_type": "code",
      "source": [
        "def shapiro_wilk(data):\n",
        "  data = np.sort(data)\n",
        "  coeffs = table_5[len(data)].dropna()\n",
        "\n",
        "  S_2 = sum(x**2 for x in data) - (1/len(data))*(sum(x for x in data))**2\n",
        "\n",
        "  B_2 = 0\n",
        "  for i in range(0, int((len(data) + 1)/2)):\n",
        "    B_2 += table_5[len(data)][i] * (data[len(data) - i - 1] - data[i])\n",
        "\n",
        "  return(round((B_2**2/S_2), 4))"
      ],
      "metadata": {
        "id": "LrhDkZ0b05I1"
      },
      "execution_count": 7,
      "outputs": []
    },
    {
      "cell_type": "code",
      "source": [
        "shapiro_wilk(norm_data_1)"
      ],
      "metadata": {
        "colab": {
          "base_uri": "https://localhost:8080/"
        },
        "id": "S5i2qYhvyqdH",
        "outputId": "5fa6ab7a-3363-4883-de42-bc91cdaff148"
      },
      "execution_count": 15,
      "outputs": [
        {
          "output_type": "execute_result",
          "data": {
            "text/plain": [
              "0.942"
            ]
          },
          "metadata": {},
          "execution_count": 15
        }
      ]
    },
    {
      "cell_type": "code",
      "source": [
        "shapiro_wilk(norm_data_2)"
      ],
      "metadata": {
        "colab": {
          "base_uri": "https://localhost:8080/"
        },
        "id": "cr1QmWRayx22",
        "outputId": "f14b75a7-1a0c-4b44-8bb2-5c46ee7fb590"
      },
      "execution_count": 16,
      "outputs": [
        {
          "output_type": "execute_result",
          "data": {
            "text/plain": [
              "0.9522"
            ]
          },
          "metadata": {},
          "execution_count": 16
        }
      ]
    },
    {
      "cell_type": "code",
      "source": [
        "shapiro_wilk(norm_data_3)"
      ],
      "metadata": {
        "colab": {
          "base_uri": "https://localhost:8080/"
        },
        "id": "Nx7FJS8Gyz3W",
        "outputId": "ff53f464-e00c-4e27-f786-6aba2742d730"
      },
      "execution_count": 17,
      "outputs": [
        {
          "output_type": "execute_result",
          "data": {
            "text/plain": [
              "0.9449"
            ]
          },
          "metadata": {},
          "execution_count": 17
        }
      ]
    },
    {
      "cell_type": "code",
      "source": [
        "shapiro_wilk(log_data_1)"
      ],
      "metadata": {
        "id": "rO9ZE_Huy4uK",
        "outputId": "818748f8-1c12-409c-d1c9-29b4dc6abc58",
        "colab": {
          "base_uri": "https://localhost:8080/"
        }
      },
      "execution_count": 18,
      "outputs": [
        {
          "output_type": "execute_result",
          "data": {
            "text/plain": [
              "0.6244"
            ]
          },
          "metadata": {},
          "execution_count": 18
        }
      ]
    },
    {
      "cell_type": "code",
      "source": [
        "shapiro_wilk(log_data_2)"
      ],
      "metadata": {
        "colab": {
          "base_uri": "https://localhost:8080/"
        },
        "id": "KDM-QzVAztJD",
        "outputId": "1dda8c97-4645-402c-ae5c-b68d11ff497f"
      },
      "execution_count": 19,
      "outputs": [
        {
          "output_type": "execute_result",
          "data": {
            "text/plain": [
              "0.7958"
            ]
          },
          "metadata": {},
          "execution_count": 19
        }
      ]
    },
    {
      "cell_type": "code",
      "source": [
        "shapiro_wilk(log_data_3)"
      ],
      "metadata": {
        "colab": {
          "base_uri": "https://localhost:8080/"
        },
        "id": "56zn1t9L0ICL",
        "outputId": "bd268005-a448-4fa2-fa5b-fe64361926b6"
      },
      "execution_count": 20,
      "outputs": [
        {
          "output_type": "execute_result",
          "data": {
            "text/plain": [
              "0.5888"
            ]
          },
          "metadata": {},
          "execution_count": 20
        }
      ]
    },
    {
      "cell_type": "markdown",
      "source": [
        "3. Сгенеруйте пусту таблицю, в якій кількість рядків - це кількість змінних + 1. Кількість стовбчиків - 4. Назва стовпчиків - Variable,\tStatistics,\tW-value\tDistribution.\n",
        "4. Занести в стовпчик Variable назви змінних.\n",
        "5. Занести в стовпчик W-value, Distribution результати роботи критерію Шапіро-Уілка. Додати до таблиці значення розрахунку критерію, та користуючись таблицями. \n",
        "6. Розрахувати для всіх змінних, що розподілені за нормальним законом розрахувати середне значення та стандартне відхилення. Записати в таблицю. Форма запису: Середнє [стандартне відхилення].\n",
        "7. Розрахувати для всіх змінних, що розподілені за розподілом відсутнім від нормального розрахувати медіану та інтерквартильний розмах. Записати в таблицю. Форма запису: Медіана [25%; 75%]."
      ],
      "metadata": {
        "id": "x3S7KRwy0kTl"
      }
    },
    {
      "cell_type": "code",
      "source": [
        "variables = ['norm_data_1', 'norm_data_2', 'norm_data_3', 'log_data_1', 'log_data_2', 'log_data_3']\n",
        "distributions = ['Normal']*3 + ['Logarithmic']*3\n",
        "arr_variables = [norm_data_1, norm_data_2, norm_data_3, log_data_1, log_data_2, log_data_3]\n",
        "\n",
        "df = pd.DataFrame(columns=['Variable', 'Statistics', 'W-value', 'Distribution'], index=range(1, len(variables)+1))\n",
        "\n",
        "df['Variable'] = variables\n",
        "df['Distribution'] = distributions\n",
        "df['W-value'] = list(map(shapiro_wilk, arr_variables))\n",
        "df['Statistics'][0:3] = list(map(lambda x, y: f'{x}[{y}]', mu, sigma))\n",
        "df['Statistics'][3:len(variables)+1] = list(map(lambda x: f'{round((np.quantile(x, 0.5)), 1)}[{round((np.quantile(x, 0.5)), 1)}; {round((np.quantile(x, 0.5)), 1)}]', arr_variables[3: len(variables)+1]))\n",
        "df"
      ],
      "metadata": {
        "colab": {
          "base_uri": "https://localhost:8080/",
          "height": 425
        },
        "id": "Lx1CRAcxaoex",
        "outputId": "8b876f99-5abf-4712-9991-c7b4e65631d7"
      },
      "execution_count": 21,
      "outputs": [
        {
          "output_type": "stream",
          "name": "stderr",
          "text": [
            "<ipython-input-21-1005a4a32888>:10: SettingWithCopyWarning: \n",
            "A value is trying to be set on a copy of a slice from a DataFrame\n",
            "\n",
            "See the caveats in the documentation: https://pandas.pydata.org/pandas-docs/stable/user_guide/indexing.html#returning-a-view-versus-a-copy\n",
            "  df['Statistics'][0:3] = list(map(lambda x, y: f'{x}[{y}]', mu, sigma))\n",
            "<ipython-input-21-1005a4a32888>:11: SettingWithCopyWarning: \n",
            "A value is trying to be set on a copy of a slice from a DataFrame\n",
            "\n",
            "See the caveats in the documentation: https://pandas.pydata.org/pandas-docs/stable/user_guide/indexing.html#returning-a-view-versus-a-copy\n",
            "  df['Statistics'][3:len(variables)+1] = list(map(lambda x: f'{round((np.quantile(x, 0.5)), 1)}[{round((np.quantile(x, 0.5)), 1)}; {round((np.quantile(x, 0.5)), 1)}]', arr_variables[3: len(variables)+1]))\n"
          ]
        },
        {
          "output_type": "execute_result",
          "data": {
            "text/plain": [
              "      Variable                 Statistics  W-value Distribution\n",
              "1  norm_data_1                       5[1]   0.9420       Normal\n",
              "2  norm_data_2                      10[2]   0.9522       Normal\n",
              "3  norm_data_3                      -3[2]   0.9449       Normal\n",
              "4   log_data_1        241.4[241.4; 241.4]   0.6244  Logarithmic\n",
              "5   log_data_2  21671.2[21671.2; 21671.2]   0.7958  Logarithmic\n",
              "6   log_data_3              0.8[0.8; 0.8]   0.5888  Logarithmic"
            ],
            "text/html": [
              "\n",
              "  <div id=\"df-558c4bde-55c9-4e9f-b0c9-70a8325364d7\">\n",
              "    <div class=\"colab-df-container\">\n",
              "      <div>\n",
              "<style scoped>\n",
              "    .dataframe tbody tr th:only-of-type {\n",
              "        vertical-align: middle;\n",
              "    }\n",
              "\n",
              "    .dataframe tbody tr th {\n",
              "        vertical-align: top;\n",
              "    }\n",
              "\n",
              "    .dataframe thead th {\n",
              "        text-align: right;\n",
              "    }\n",
              "</style>\n",
              "<table border=\"1\" class=\"dataframe\">\n",
              "  <thead>\n",
              "    <tr style=\"text-align: right;\">\n",
              "      <th></th>\n",
              "      <th>Variable</th>\n",
              "      <th>Statistics</th>\n",
              "      <th>W-value</th>\n",
              "      <th>Distribution</th>\n",
              "    </tr>\n",
              "  </thead>\n",
              "  <tbody>\n",
              "    <tr>\n",
              "      <th>1</th>\n",
              "      <td>norm_data_1</td>\n",
              "      <td>5[1]</td>\n",
              "      <td>0.9420</td>\n",
              "      <td>Normal</td>\n",
              "    </tr>\n",
              "    <tr>\n",
              "      <th>2</th>\n",
              "      <td>norm_data_2</td>\n",
              "      <td>10[2]</td>\n",
              "      <td>0.9522</td>\n",
              "      <td>Normal</td>\n",
              "    </tr>\n",
              "    <tr>\n",
              "      <th>3</th>\n",
              "      <td>norm_data_3</td>\n",
              "      <td>-3[2]</td>\n",
              "      <td>0.9449</td>\n",
              "      <td>Normal</td>\n",
              "    </tr>\n",
              "    <tr>\n",
              "      <th>4</th>\n",
              "      <td>log_data_1</td>\n",
              "      <td>241.4[241.4; 241.4]</td>\n",
              "      <td>0.6244</td>\n",
              "      <td>Logarithmic</td>\n",
              "    </tr>\n",
              "    <tr>\n",
              "      <th>5</th>\n",
              "      <td>log_data_2</td>\n",
              "      <td>21671.2[21671.2; 21671.2]</td>\n",
              "      <td>0.7958</td>\n",
              "      <td>Logarithmic</td>\n",
              "    </tr>\n",
              "    <tr>\n",
              "      <th>6</th>\n",
              "      <td>log_data_3</td>\n",
              "      <td>0.8[0.8; 0.8]</td>\n",
              "      <td>0.5888</td>\n",
              "      <td>Logarithmic</td>\n",
              "    </tr>\n",
              "  </tbody>\n",
              "</table>\n",
              "</div>\n",
              "      <button class=\"colab-df-convert\" onclick=\"convertToInteractive('df-558c4bde-55c9-4e9f-b0c9-70a8325364d7')\"\n",
              "              title=\"Convert this dataframe to an interactive table.\"\n",
              "              style=\"display:none;\">\n",
              "        \n",
              "  <svg xmlns=\"http://www.w3.org/2000/svg\" height=\"24px\"viewBox=\"0 0 24 24\"\n",
              "       width=\"24px\">\n",
              "    <path d=\"M0 0h24v24H0V0z\" fill=\"none\"/>\n",
              "    <path d=\"M18.56 5.44l.94 2.06.94-2.06 2.06-.94-2.06-.94-.94-2.06-.94 2.06-2.06.94zm-11 1L8.5 8.5l.94-2.06 2.06-.94-2.06-.94L8.5 2.5l-.94 2.06-2.06.94zm10 10l.94 2.06.94-2.06 2.06-.94-2.06-.94-.94-2.06-.94 2.06-2.06.94z\"/><path d=\"M17.41 7.96l-1.37-1.37c-.4-.4-.92-.59-1.43-.59-.52 0-1.04.2-1.43.59L10.3 9.45l-7.72 7.72c-.78.78-.78 2.05 0 2.83L4 21.41c.39.39.9.59 1.41.59.51 0 1.02-.2 1.41-.59l7.78-7.78 2.81-2.81c.8-.78.8-2.07 0-2.86zM5.41 20L4 18.59l7.72-7.72 1.47 1.35L5.41 20z\"/>\n",
              "  </svg>\n",
              "      </button>\n",
              "      \n",
              "  <style>\n",
              "    .colab-df-container {\n",
              "      display:flex;\n",
              "      flex-wrap:wrap;\n",
              "      gap: 12px;\n",
              "    }\n",
              "\n",
              "    .colab-df-convert {\n",
              "      background-color: #E8F0FE;\n",
              "      border: none;\n",
              "      border-radius: 50%;\n",
              "      cursor: pointer;\n",
              "      display: none;\n",
              "      fill: #1967D2;\n",
              "      height: 32px;\n",
              "      padding: 0 0 0 0;\n",
              "      width: 32px;\n",
              "    }\n",
              "\n",
              "    .colab-df-convert:hover {\n",
              "      background-color: #E2EBFA;\n",
              "      box-shadow: 0px 1px 2px rgba(60, 64, 67, 0.3), 0px 1px 3px 1px rgba(60, 64, 67, 0.15);\n",
              "      fill: #174EA6;\n",
              "    }\n",
              "\n",
              "    [theme=dark] .colab-df-convert {\n",
              "      background-color: #3B4455;\n",
              "      fill: #D2E3FC;\n",
              "    }\n",
              "\n",
              "    [theme=dark] .colab-df-convert:hover {\n",
              "      background-color: #434B5C;\n",
              "      box-shadow: 0px 1px 3px 1px rgba(0, 0, 0, 0.15);\n",
              "      filter: drop-shadow(0px 1px 2px rgba(0, 0, 0, 0.3));\n",
              "      fill: #FFFFFF;\n",
              "    }\n",
              "  </style>\n",
              "\n",
              "      <script>\n",
              "        const buttonEl =\n",
              "          document.querySelector('#df-558c4bde-55c9-4e9f-b0c9-70a8325364d7 button.colab-df-convert');\n",
              "        buttonEl.style.display =\n",
              "          google.colab.kernel.accessAllowed ? 'block' : 'none';\n",
              "\n",
              "        async function convertToInteractive(key) {\n",
              "          const element = document.querySelector('#df-558c4bde-55c9-4e9f-b0c9-70a8325364d7');\n",
              "          const dataTable =\n",
              "            await google.colab.kernel.invokeFunction('convertToInteractive',\n",
              "                                                     [key], {});\n",
              "          if (!dataTable) return;\n",
              "\n",
              "          const docLinkHtml = 'Like what you see? Visit the ' +\n",
              "            '<a target=\"_blank\" href=https://colab.research.google.com/notebooks/data_table.ipynb>data table notebook</a>'\n",
              "            + ' to learn more about interactive tables.';\n",
              "          element.innerHTML = '';\n",
              "          dataTable['output_type'] = 'display_data';\n",
              "          await google.colab.output.renderOutput(dataTable, element);\n",
              "          const docLink = document.createElement('div');\n",
              "          docLink.innerHTML = docLinkHtml;\n",
              "          element.appendChild(docLink);\n",
              "        }\n",
              "      </script>\n",
              "    </div>\n",
              "  </div>\n",
              "  "
            ]
          },
          "metadata": {},
          "execution_count": 21
        }
      ]
    },
    {
      "cell_type": "markdown",
      "source": [
        "8. Для кожної змінної створити графік розподілення, який візуально зобразить розподіл даних."
      ],
      "metadata": {
        "id": "MkbZ_QLM041V"
      }
    },
    {
      "cell_type": "code",
      "source": [
        "fig, axes = plt.subplots(2, 3, figsize=(16, 10))\n",
        "for i in range(0, int(len(arr_variables)/2)):\n",
        "  kde = sns.kdeplot(ax=axes[0, i], data = arr_variables[i], shade=True)\n",
        "  kde.set(xlabel=variables[i])\n",
        "for i in range(int(len(arr_variables)/2), len(arr_variables)):\n",
        "  kde = sns.kdeplot(ax = axes[1, i - int(len(variables) / 2)], data = arr_variables[i], shade=True)\n",
        "  kde.set(xlabel=variables[i])\n",
        "plt.subplots_adjust(wspace = 0.25)"
      ],
      "metadata": {
        "colab": {
          "base_uri": "https://localhost:8080/",
          "height": 1000
        },
        "id": "9YgQvZGDkFuD",
        "outputId": "cc9eb020-0d7c-442a-f3ec-77e22dff60b8"
      },
      "execution_count": 22,
      "outputs": [
        {
          "output_type": "stream",
          "name": "stderr",
          "text": [
            "<ipython-input-22-446f5b0def52>:3: FutureWarning: \n",
            "\n",
            "`shade` is now deprecated in favor of `fill`; setting `fill=True`.\n",
            "This will become an error in seaborn v0.14.0; please update your code.\n",
            "\n",
            "  kde = sns.kdeplot(ax=axes[0, i], data = arr_variables[i], shade=True)\n",
            "<ipython-input-22-446f5b0def52>:3: FutureWarning: \n",
            "\n",
            "`shade` is now deprecated in favor of `fill`; setting `fill=True`.\n",
            "This will become an error in seaborn v0.14.0; please update your code.\n",
            "\n",
            "  kde = sns.kdeplot(ax=axes[0, i], data = arr_variables[i], shade=True)\n",
            "<ipython-input-22-446f5b0def52>:3: FutureWarning: \n",
            "\n",
            "`shade` is now deprecated in favor of `fill`; setting `fill=True`.\n",
            "This will become an error in seaborn v0.14.0; please update your code.\n",
            "\n",
            "  kde = sns.kdeplot(ax=axes[0, i], data = arr_variables[i], shade=True)\n",
            "<ipython-input-22-446f5b0def52>:6: FutureWarning: \n",
            "\n",
            "`shade` is now deprecated in favor of `fill`; setting `fill=True`.\n",
            "This will become an error in seaborn v0.14.0; please update your code.\n",
            "\n",
            "  kde = sns.kdeplot(ax = axes[1, i - int(len(variables) / 2)], data = arr_variables[i], shade=True)\n",
            "<ipython-input-22-446f5b0def52>:6: FutureWarning: \n",
            "\n",
            "`shade` is now deprecated in favor of `fill`; setting `fill=True`.\n",
            "This will become an error in seaborn v0.14.0; please update your code.\n",
            "\n",
            "  kde = sns.kdeplot(ax = axes[1, i - int(len(variables) / 2)], data = arr_variables[i], shade=True)\n",
            "<ipython-input-22-446f5b0def52>:6: FutureWarning: \n",
            "\n",
            "`shade` is now deprecated in favor of `fill`; setting `fill=True`.\n",
            "This will become an error in seaborn v0.14.0; please update your code.\n",
            "\n",
            "  kde = sns.kdeplot(ax = axes[1, i - int(len(variables) / 2)], data = arr_variables[i], shade=True)\n"
          ]
        },
        {
          "output_type": "display_data",
          "data": {
            "text/plain": [
              "<Figure size 1600x1000 with 6 Axes>"
            ],
            "image/png": "[encoded data removed]"
          },
          "metadata": {}
        }
      ]
    },
    {
      "cell_type": "code",
      "source": [],
      "metadata": {
        "id": "MmCUKa_t0csd"
      },
      "execution_count": null,
      "outputs": []
    }
  ]
}